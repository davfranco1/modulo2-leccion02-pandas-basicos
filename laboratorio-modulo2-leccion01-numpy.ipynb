{
 "cells": [
  {
   "cell_type": "markdown",
   "id": "6db588db",
   "metadata": {},
   "source": [
    "<div style=\"text-align: center;\">\n",
    "  <img src=\"https://github.com/Hack-io-Data/Imagenes/blob/main/01-LogosHackio/logo_naranja@4x.png?raw=true\" alt=\"esquema\" />\n",
    "</div>"
   ]
  },
  {
   "cell_type": "markdown",
   "id": "11308d6c",
   "metadata": {},
   "source": [
    "\n",
    "# Laboratorio de NumPy"
   ]
  },
  {
   "cell_type": "markdown",
   "id": "a19d4596",
   "metadata": {},
   "source": [
    "#### Ejercicio 1 - Crea un array de 1D con los números del 0 al 9."
   ]
  },
  {
   "cell_type": "code",
   "execution_count": 158,
   "id": "9d4e1d42",
   "metadata": {},
   "outputs": [
    {
     "data": {
      "text/plain": [
       "array([0, 1, 2, 3, 4, 5, 6, 7, 8, 9])"
      ]
     },
     "execution_count": 158,
     "metadata": {},
     "output_type": "execute_result"
    }
   ],
   "source": [
    "import numpy as np\n",
    "import random\n",
    "\n",
    "array_unidimensional = np.array([0,1,2,3,4,5,6,7,8,9])\n",
    "array_unidimensional"
   ]
  },
  {
   "cell_type": "markdown",
   "id": "f4a41f16",
   "metadata": {},
   "source": [
    "#### Ejercicio 2 - Convierte un array 1D en un array 2D con 2 filas y 5 columnas."
   ]
  },
  {
   "cell_type": "code",
   "execution_count": 157,
   "id": "3d7cef3c",
   "metadata": {},
   "outputs": [
    {
     "name": "stdout",
     "output_type": "stream",
     "text": [
      "[5 4 1 9 1 3 6 4 6 6]\n"
     ]
    },
    {
     "data": {
      "text/plain": [
       "array([[5, 4, 1, 9, 1],\n",
       "       [3, 6, 4, 6, 6]])"
      ]
     },
     "execution_count": 157,
     "metadata": {},
     "output_type": "execute_result"
    }
   ],
   "source": [
    "array_unidimensional = np.random.randint(1,10, (10))\n",
    "print(array_unidimensional)\n",
    "\n",
    "array_bidimensional = np.reshape(array_unidimensional, (2,5))\n",
    "array_bidimensional\n"
   ]
  },
  {
   "cell_type": "markdown",
   "id": "86bb8999",
   "metadata": {},
   "source": [
    "#### Ejercicio 3 - Encuentra los índices de los elementos con valor distinto de 0 en el siguiente array: [0, 2, 0, 3, 0, 4, 0]."
   ]
  },
  {
   "cell_type": "code",
   "execution_count": 160,
   "id": "d1fcfca4",
   "metadata": {},
   "outputs": [
    {
     "data": {
      "text/plain": [
       "array([1, 3, 5])"
      ]
     },
     "execution_count": 160,
     "metadata": {},
     "output_type": "execute_result"
    }
   ],
   "source": [
    "array = np.array([0, 2, 0, 3, 0, 4, 0])\n",
    "np.where(array != 0)[0]"
   ]
  },
  {
   "cell_type": "markdown",
   "id": "1c548419",
   "metadata": {},
   "source": [
    "#### Ejercicio 4 - Crea un array 3x3 con valores aleatorios entre 0 y 1."
   ]
  },
  {
   "cell_type": "code",
   "execution_count": 47,
   "id": "e1d4f19f",
   "metadata": {},
   "outputs": [
    {
     "data": {
      "text/plain": [
       "array([[0, 0, 0],\n",
       "       [0, 0, 0],\n",
       "       [0, 0, 0]])"
      ]
     },
     "execution_count": 47,
     "metadata": {},
     "output_type": "execute_result"
    }
   ],
   "source": [
    "array = np.random.randint(0,1, (3,3))\n",
    "array"
   ]
  },
  {
   "cell_type": "markdown",
   "id": "aee82811",
   "metadata": {},
   "source": [
    "#### Ejercicio 5 - Crea un array de 10 números aleatorios y encuentra el valor máximo y mínimo."
   ]
  },
  {
   "cell_type": "code",
   "execution_count": 168,
   "id": "81fea76e",
   "metadata": {},
   "outputs": [
    {
     "name": "stdout",
     "output_type": "stream",
     "text": [
      "[5 5 6 2 9 5 6 2 2 8]\n",
      "El máximo es: 9\n",
      "El mínimo es: 2\n"
     ]
    }
   ],
   "source": [
    "array = np.random.randint(1,10,10)\n",
    "print(array)\n",
    "\n",
    "print(f\"El máximo es: {np.max(array)}\")\n",
    "\n",
    "print(f\"El mínimo es: {np.min(array)}\")"
   ]
  },
  {
   "cell_type": "markdown",
   "id": "6559375b",
   "metadata": {},
   "source": [
    "#### Ejercicio 6 - Crea un array de una dimensión e inviértelo. "
   ]
  },
  {
   "cell_type": "code",
   "execution_count": 37,
   "id": "31385db0",
   "metadata": {},
   "outputs": [
    {
     "name": "stdout",
     "output_type": "stream",
     "text": [
      "[1 6 4 2 7 1 2 2 6 4]\n"
     ]
    },
    {
     "data": {
      "text/plain": [
       "array([1, 6, 4, 2, 7, 1, 2, 2, 6, 4])"
      ]
     },
     "execution_count": 37,
     "metadata": {},
     "output_type": "execute_result"
    }
   ],
   "source": [
    "array = np.random.randint(1,10,10)\n",
    "print(array)\n",
    "\n",
    "np.transpose(array)"
   ]
  },
  {
   "cell_type": "markdown",
   "id": "4457f046",
   "metadata": {},
   "source": [
    "\n",
    "#### Ejercicio 6 - Genera un array tridimensional de dimensiones (2, 3, 4) con valores enteros del 1 al 24.\n",
    "\n",
    "- Selecciona el primer `15` del array.\n",
    "\n",
    "- Selecciona todos los elementos del primer array. \n",
    "\n",
    "- Selecciona la última fila del último array\n"
   ]
  },
  {
   "cell_type": "code",
   "execution_count": 109,
   "id": "3cab04c9",
   "metadata": {},
   "outputs": [
    {
     "name": "stdout",
     "output_type": "stream",
     "text": [
      "[[[11 17 10 15]\n",
      "  [15 20 17 18]\n",
      "  [15 13 14 15]]\n",
      "\n",
      " [[17 15  1  9]\n",
      "  [ 5 10  3 21]\n",
      "  [17 10  8  9]]]\n",
      "\n",
      "\n",
      "El primer 15 del array: \n",
      " 15 \n",
      "\n",
      "Todos los elementos del primer array: \n",
      " [[11 17 10 15]\n",
      " [15 20 17 18]\n",
      " [15 13 14 15]] \n",
      "\n",
      "La última fila del último array: \n",
      " [17 10  8  9]\n"
     ]
    }
   ],
   "source": [
    "array = np.random.randint(1,24, (2,3,4))\n",
    "print(array)\n",
    "print(\"\\n\")\n",
    "\n",
    "try:\n",
    "    primer15 = array[array == 15][0]\n",
    "except:\n",
    "    pass\n",
    "\n",
    "print(f\"El primer 15 del array: \\n {primer15} \\n\")\n",
    "\n",
    "print(f\"Todos los elementos del primer array: \\n {array[0]} \\n\")\n",
    "\n",
    "print(f\"La última fila del último array: \\n {array[1,2]}\")\n"
   ]
  },
  {
   "cell_type": "markdown",
   "id": "681b7e4e",
   "metadata": {},
   "source": [
    "\n",
    "#### Ejercicio 7 - Genera un array tridimensional de dimensiones (3, 2, 5) con valores enteros del 1 al 30.\n",
    "\n",
    "- Selecciona el subarray que contiene los dos primeros elementos de cada fila del primer array.\n",
    "\n",
    "- Selecciona el subarray que contiene todas las filas de los dos últimos arrays.\n"
   ]
  },
  {
   "cell_type": "code",
   "execution_count": 64,
   "id": "b008a9aa",
   "metadata": {},
   "outputs": [
    {
     "name": "stdout",
     "output_type": "stream",
     "text": [
      "[[[ 8 14 28 24 23]\n",
      "  [ 9 21 21 24 14]]\n",
      "\n",
      " [[24 23 20 19 22]\n",
      "  [15 14 19 13 20]]\n",
      "\n",
      " [[18  4  9 17 20]\n",
      "  [26  5 29 21  1]]]\n",
      "\n",
      "\n",
      "Subarray que contiene los dos primeros elementos de cada fila del primer array : \n",
      " [[ 8 14]\n",
      " [ 9 21]] \n",
      "\n",
      "Subarray que contiene todas las filas de los últimos dos arrays : \n",
      " [[[24 23 20 19 22]\n",
      "  [15 14 19 13 20]]\n",
      "\n",
      " [[18  4  9 17 20]\n",
      "  [26  5 29 21  1]]] \n",
      "\n"
     ]
    }
   ],
   "source": [
    "array = np.random.randint(1,30, (3,2,5))\n",
    "print(array)\n",
    "print(\"\\n\")\n",
    "\n",
    "print(f\"Subarray que contiene los dos primeros elementos de cada fila del primer array : \\n {array[0,:2,:2]} \\n\")\n",
    "\n",
    "print(f\"Subarray que contiene todas las filas de los últimos dos arrays : \\n {array[1:,:,:]} \\n\")"
   ]
  },
  {
   "cell_type": "markdown",
   "id": "4fabd9d0",
   "metadata": {},
   "source": [
    "#### Ejercicio 8 - Genera un array tridimensional de dimensiones (4, 3, 2) con valores enteros del 1 al 24.\n",
    "\n",
    "- Cambia todos los elementos de la segunda fila del segundo array por `0`.\n",
    "\n",
    "- Cambia todos los valores del último array a `-1`.\n"
   ]
  },
  {
   "cell_type": "code",
   "execution_count": 141,
   "id": "0ef45b69",
   "metadata": {},
   "outputs": [
    {
     "name": "stdout",
     "output_type": "stream",
     "text": [
      "[[[12 18]\n",
      "  [ 1 12]\n",
      "  [19  3]]\n",
      "\n",
      " [[ 2 21]\n",
      "  [ 9 17]\n",
      "  [17 15]]\n",
      "\n",
      " [[12 13]\n",
      "  [13 23]\n",
      "  [23  7]]\n",
      "\n",
      " [[ 2  1]\n",
      "  [ 3 21]\n",
      "  [ 2 10]]]\n",
      "\n",
      " Cambio elementos de la segunda fila del segundo array por 0 \n",
      "\n",
      "[[[12 18]\n",
      "  [ 1 12]\n",
      "  [19  3]]\n",
      "\n",
      " [[ 2  0]\n",
      "  [ 9  0]\n",
      "  [17  0]]\n",
      "\n",
      " [[12 13]\n",
      "  [13 23]\n",
      "  [23  7]]\n",
      "\n",
      " [[ 2  1]\n",
      "  [ 3 21]\n",
      "  [ 2 10]]]\n",
      "\n",
      "\n",
      "\n",
      " Cambio todos los valores del último array a -1 \n",
      "\n",
      "[[[12 18]\n",
      "  [ 1 12]\n",
      "  [19  3]]\n",
      "\n",
      " [[ 2  0]\n",
      "  [ 9  0]\n",
      "  [17  0]]\n",
      "\n",
      " [[12 13]\n",
      "  [13 23]\n",
      "  [23  7]]\n",
      "\n",
      " [[-1 -1]\n",
      "  [-1 -1]\n",
      "  [-1 -1]]]\n"
     ]
    }
   ],
   "source": [
    "array = np.random.randint(1,24, (4,3,2))\n",
    "print(array)\n",
    "\n",
    "\n",
    "print(\"\\n Cambio elementos de la segunda fila del segundo array por 0: \\n\")\n",
    "array[1,:,1] = 0\n",
    "print(array)\n",
    "print(\"\\n\")\n",
    "\n",
    "print(\"\\n Cambio todos los valores del último array a -1: \\n\")\n",
    "array[3,:,:] = -1\n",
    "print(array)\n"
   ]
  },
  {
   "cell_type": "markdown",
   "id": "c60bc3bb",
   "metadata": {},
   "source": [
    "\n",
    "#### Ejercicio 9 - Genera un array tridimensional de dimensiones (2, 4, 3) con valores enteros del -10 al 13.\n",
    "\n",
    "- Selecciona todos los elementos mayores a `5`.\n",
    "\n",
    "- Reemplaza todos los elementos negativos por `0`.\n"
   ]
  },
  {
   "cell_type": "code",
   "execution_count": 145,
   "id": "28bf9232",
   "metadata": {},
   "outputs": [
    {
     "name": "stdout",
     "output_type": "stream",
     "text": [
      "[[[ 5 12  4]\n",
      "  [ 3  9  3]\n",
      "  [ 4  7  2]\n",
      "  [11 -5  5]]\n",
      "\n",
      " [[ 1 12  4]\n",
      "  [-9 12  2]\n",
      "  [-4 12  0]\n",
      "  [ 6  5 -8]]]\n",
      "\n",
      " Selecciono los elementos mayores a 5: \n",
      "\n",
      "[12  9  7 11 12 12 12  6]\n",
      "\n",
      " Reemplazo los elementos negativos por 0: \n",
      "\n",
      "[[[ 5 12  4]\n",
      "  [ 3  9  3]\n",
      "  [ 4  7  2]\n",
      "  [11  0  5]]\n",
      "\n",
      " [[ 1 12  4]\n",
      "  [ 0 12  2]\n",
      "  [ 0 12  0]\n",
      "  [ 6  5  0]]]\n"
     ]
    }
   ],
   "source": [
    "array = np.random.randint(-10,13, (2,4,3))\n",
    "print(array)\n",
    "\n",
    "print(\"\\n Selecciono los elementos mayores a 5: \\n\")\n",
    "print(array[array > 5])\n",
    "\n",
    "print(\"\\n Reemplazo los elementos negativos por 0: \\n\")\n",
    "array[array < 0] = 0\n",
    "print(array)\n"
   ]
  },
  {
   "cell_type": "markdown",
   "id": "ab38a3be",
   "metadata": {},
   "source": [
    "#### Ejercicio 10 - Genera un array tridimensional de dimensiones (3, 3, 3) con valores enteros del 1 al 27.\n",
    "\n",
    "- Selecciona el subarray del segundo array que contenga solo las dos primeras columnas.\n",
    "\n",
    "- Selecciona todos los elementos del tercer array que sean mayores que `20`.\n"
   ]
  },
  {
   "cell_type": "code",
   "execution_count": 175,
   "id": "78c979cf",
   "metadata": {},
   "outputs": [
    {
     "name": "stdout",
     "output_type": "stream",
     "text": [
      "[[[ 1 23  8]\n",
      "  [11  6 10]\n",
      "  [20 12  2]]\n",
      "\n",
      " [[21 13  4]\n",
      "  [26  9 22]\n",
      "  [10 11 22]]\n",
      "\n",
      " [[22 24 24]\n",
      "  [ 3  3 22]\n",
      "  [16 17 26]]]\n",
      "\n",
      " Selecciono el subarray del segundo array que contenga sóla las dos primeras columnas \n",
      "\n",
      "[[21 13]\n",
      " [26  9]\n",
      " [10 11]]\n",
      "\n",
      " Selecciono todos los elementos mayores a 20 del tercer array: \n",
      "\n",
      "[22 24 24 22 26]\n"
     ]
    }
   ],
   "source": [
    "array = np.random.randint(1,27, (3,3,3))\n",
    "print(array)\n",
    "\n",
    "print(\"\\n Selecciono el subarray del segundo array que contenga sóla las dos primeras columnas \\n\")\n",
    "print(array[1,:,:2])\n",
    "\n",
    "print(\"\\n Selecciono todos los elementos mayores a 20 del tercer array: \\n\")\n",
    "print(array[2, :, :][array[2, :, :] > 20])\n",
    "\n"
   ]
  },
  {
   "cell_type": "markdown",
   "id": "f1a00156",
   "metadata": {},
   "source": [
    "#### Ejercicio 11 - Crea un array de 10 números aleatorios y reemplaza los valores máximos y mínimos por 0."
   ]
  },
  {
   "cell_type": "code",
   "execution_count": 253,
   "id": "990fa526",
   "metadata": {},
   "outputs": [
    {
     "name": "stdout",
     "output_type": "stream",
     "text": [
      "[8 1 3 1 7 8 6 1 4 5]\n",
      "\n",
      " Reemplazo los valores máximos y mínimos por 0: \n",
      "\n",
      "[0 0 3 0 7 0 6 0 4 5]\n"
     ]
    }
   ],
   "source": [
    "array = np.random.randint(1,10, (10))\n",
    "print(array)\n",
    "\n",
    "print(\"\\n Reemplazo los valores máximos y mínimos por 0: \\n\")\n",
    "\n",
    "indice_max = np.where(array == np.max(array))[0] #busco índice primero\n",
    "indice_min = np.where(array == np.min(array))[0]\n",
    "\n",
    "array[indice_max] = 0 #y sustituyo\n",
    "array[indice_min] = 0\n",
    "\n",
    "print(array)\n",
    "\n"
   ]
  },
  {
   "cell_type": "markdown",
   "id": "781fafd0",
   "metadata": {},
   "source": [
    "#### Ejercicio 12 - Genera un array de 15 números aleatorios enteros entre 1 y 100 y reordénalo en orden ascendente."
   ]
  },
  {
   "cell_type": "code",
   "execution_count": 197,
   "id": "caa4fd47",
   "metadata": {},
   "outputs": [
    {
     "name": "stdout",
     "output_type": "stream",
     "text": [
      "[86  3 13 75 83 99 83 68 84 47 47 36 85 37 78]\n",
      "El array ordenado de manera ascendente es [ 3 13 36 37 47 47 68 75 78 83 83 84 85 86 99]\n"
     ]
    }
   ],
   "source": [
    "array = np.random.randint(1,100, (15))\n",
    "print(array)\n",
    "print(f\"El array ordenado de manera ascendente es {np.sort(array)}\")\n"
   ]
  },
  {
   "cell_type": "markdown",
   "id": "45f10c3e",
   "metadata": {},
   "source": [
    "#### Ejercicio 11 - Calcula la suma de los elementos a lo largo de las filas y columnas en una matriz 4x4."
   ]
  },
  {
   "cell_type": "code",
   "execution_count": 203,
   "id": "90220788",
   "metadata": {},
   "outputs": [
    {
     "name": "stdout",
     "output_type": "stream",
     "text": [
      "[[19 13  8  5]\n",
      " [15 10  2  9]\n",
      " [16 14 11 11]\n",
      " [15 16  3 18]]\n",
      "\n",
      " El array con la suma de los elementos a lo largo de las columnas es\n",
      "[65 53 24 43]\n",
      "\n",
      " El array con la suma de los elementos a lo largo de las filas es\n",
      "[45 36 52 52]\n"
     ]
    }
   ],
   "source": [
    "array = np.random.randint(1,20, (4,4))\n",
    "print(array)\n",
    "\n",
    "print(f\"\\n El array con la suma de los elementos a lo largo de las columnas es\")\n",
    "print(np.sum(array, axis = 0))\n",
    "\n",
    "print(f\"\\n El array con la suma de los elementos a lo largo de las filas es\")\n",
    "print(np.sum(array, axis = 1))"
   ]
  },
  {
   "cell_type": "markdown",
   "id": "69b9751a",
   "metadata": {},
   "source": [
    "#### Ejercicio 12 - Crea una matriz de 5x5 con valores en el borde igual a 1 y en el interior igual a 0."
   ]
  },
  {
   "cell_type": "code",
   "execution_count": 215,
   "id": "eca81323",
   "metadata": {},
   "outputs": [
    {
     "name": "stdout",
     "output_type": "stream",
     "text": [
      "[[1. 1. 1. 1. 1.]\n",
      " [1. 0. 0. 0. 1.]\n",
      " [1. 0. 0. 0. 1.]\n",
      " [1. 0. 0. 0. 1.]\n",
      " [1. 1. 1. 1. 1.]]\n"
     ]
    }
   ],
   "source": [
    "array = np.ones((5, 5))\n",
    "array[1:-1, 1:-1] = 0\n",
    "print(array)\n",
    "\n"
   ]
  },
  {
   "cell_type": "markdown",
   "id": "1ea8068d",
   "metadata": {},
   "source": [
    "#### Ejercicio 13 - Calcula la media y la desviación estándar de un array de 10 números aleatorios."
   ]
  },
  {
   "cell_type": "code",
   "execution_count": 207,
   "id": "05dd579d",
   "metadata": {},
   "outputs": [
    {
     "name": "stdout",
     "output_type": "stream",
     "text": [
      "[17 15 13  5 10 18  4 13  2  5]\n",
      "\n",
      " La desviación estándar del array es 10.2\n",
      "La desviación estándar del array es 5.53\n"
     ]
    }
   ],
   "source": [
    "array = np.random.randint(1,20, (10))\n",
    "print(array)\n",
    "\n",
    "print(f\"\\n La desviación estándar del array es {np.mean(array)}\")\n",
    "print(f\"La desviación estándar del array es {round(np.std(array),2)}\")"
   ]
  },
  {
   "cell_type": "markdown",
   "id": "6add6669",
   "metadata": {},
   "source": [
    "#### Ejercicio 14 - Genera un array tridimensional de dimensiones (2, 3, 4) con valores enteros del 1 al 24.\n",
    "\n",
    "- Transpón el array para intercambiar los ejes de la forma (2, 3, 4) a (4, 3, 2).\n",
    "\n",
    "- Observa cómo cambian las posiciones de los elementos y sus índices después de la transposición. Explica en una celda de markdown que es lo que ha pasado. \n"
   ]
  },
  {
   "cell_type": "code",
   "execution_count": 222,
   "id": "ae98aca5",
   "metadata": {},
   "outputs": [
    {
     "name": "stdout",
     "output_type": "stream",
     "text": [
      "[[[ 1 17  6 17]\n",
      "  [ 5  9  8  3]\n",
      "  [23  3 16  2]]\n",
      "\n",
      " [[ 5 13 11  4]\n",
      "  [17  2  9 11]\n",
      "  [15  1  5 23]]]\n",
      "\n",
      " El array transpuesto es: \n",
      " [[[ 1 17  6 17]\n",
      "  [ 5  9  8  3]\n",
      "  [23  3 16  2]]\n",
      "\n",
      " [[ 5 13 11  4]\n",
      "  [17  2  9 11]\n",
      "  [15  1  5 23]]]\n"
     ]
    }
   ],
   "source": [
    "array = np.random.randint(1,24, (2,3,4))\n",
    "print(array)\n",
    "\n",
    "np.transpose(array, (2,1,0))\n",
    "print(f\"\\n El array transpuesto es: \\n {array}\")"
   ]
  },
  {
   "cell_type": "markdown",
   "id": "a3911f3c",
   "metadata": {},
   "source": [
    "Método para transponer: cambia los ejes de la matriz con la sintaxis (matriz,fila,columna)\n",
    "\n",
    "0    1    2     Índices originales\n",
    "\n",
    "2 x  3 x  4     Array original\n",
    "4 x  3 x  2     Array nuevo\n",
    "\n",
    "2    1    0     Nuevos índices"
   ]
  },
  {
   "cell_type": "markdown",
   "id": "1e32b5e6",
   "metadata": {},
   "source": [
    "#### Ejercicio 15 - Genera un array tridimensional de dimensiones (3, 4, 2) con valores enteros del 1 al 24.\n",
    "\n",
    "- Transpón el array para intercambiar el primer y segundo eje, de manera que la nueva forma del array sea (4, 3, 2).\n"
   ]
  },
  {
   "cell_type": "markdown",
   "id": "058d378e",
   "metadata": {},
   "source": [
    "0    1    2     Índices originales\n",
    "\n",
    "3 x  4 x  2     Array original\n",
    "4 x  3 x  2     Array nuevo\n",
    "\n",
    "1    0    2     Nuevos índices"
   ]
  },
  {
   "cell_type": "code",
   "execution_count": 223,
   "id": "0146fdd6",
   "metadata": {},
   "outputs": [
    {
     "name": "stdout",
     "output_type": "stream",
     "text": [
      "[[[ 2  6]\n",
      "  [13 11]\n",
      "  [ 6 12]\n",
      "  [21  9]]\n",
      "\n",
      " [[ 5  7]\n",
      "  [13 11]\n",
      "  [21 18]\n",
      "  [ 8  2]]\n",
      "\n",
      " [[16 14]\n",
      "  [17 17]\n",
      "  [ 9 14]\n",
      "  [10 14]]]\n",
      "\n",
      " El array transpuesto es: \n",
      " [[[ 2  6]\n",
      "  [13 11]\n",
      "  [ 6 12]\n",
      "  [21  9]]\n",
      "\n",
      " [[ 5  7]\n",
      "  [13 11]\n",
      "  [21 18]\n",
      "  [ 8  2]]\n",
      "\n",
      " [[16 14]\n",
      "  [17 17]\n",
      "  [ 9 14]\n",
      "  [10 14]]]\n"
     ]
    }
   ],
   "source": [
    "array = np.random.randint(1,24, (3,4,2))\n",
    "print(array)\n",
    "\n",
    "np.transpose(array, (1,0,2))\n",
    "print(f\"\\n El array transpuesto es: \\n {array}\")"
   ]
  },
  {
   "cell_type": "markdown",
   "id": "fcf92586",
   "metadata": {},
   "source": [
    "#### Ejercicio 16 - Genera un array tridimensional de dimensiones (3, 2, 4) con valores enteros del 1 al 24.\n",
    "\n",
    "- Realiza una rotación completa de los ejes para convertir la forma original (3, 2, 4) en (4, 3, 2).\n"
   ]
  },
  {
   "cell_type": "markdown",
   "id": "e08d043c",
   "metadata": {},
   "source": [
    "0    1    2     Índices originales\n",
    "\n",
    "3 x  2 x  4     Array original\n",
    "4 x  3 x  2     Array nuevo\n",
    "\n",
    "2    0    1     Nuevos índices"
   ]
  },
  {
   "cell_type": "code",
   "execution_count": 227,
   "id": "dd2c7f27",
   "metadata": {},
   "outputs": [
    {
     "name": "stdout",
     "output_type": "stream",
     "text": [
      "[[[ 1  9  1  3]\n",
      "  [21 23 11  5]]\n",
      "\n",
      " [[ 8 21 15 12]\n",
      "  [ 4 23  9  6]]\n",
      "\n",
      " [[ 6  3  6 10]\n",
      "  [ 9 21 17  5]]]\n",
      "\n",
      " El array transpuesto es: \n",
      " [[[ 1  9  1  3]\n",
      "  [21 23 11  5]]\n",
      "\n",
      " [[ 8 21 15 12]\n",
      "  [ 4 23  9  6]]\n",
      "\n",
      " [[ 6  3  6 10]\n",
      "  [ 9 21 17  5]]]\n"
     ]
    }
   ],
   "source": [
    "array = np.random.randint(1,24, (3,2,4))\n",
    "print(array)\n",
    "\n",
    "np.transpose(array, (2,0,1))\n",
    "print(f\"\\n El array transpuesto es: \\n {array}\")"
   ]
  },
  {
   "cell_type": "markdown",
   "id": "1795e11f",
   "metadata": {},
   "source": [
    "#### Ejercicio 17 - Manipulación de Arrays en 3D\n",
    "\n",
    "- Crea un array tridimensional con dimensiones (3, 4, 5) cuyos elementos sean números enteros aleatorios entre -10 y 10.\n",
    "\n",
    "- Crea un array vacío con la misma forma y dimensiones que el array creado anteriormente. Luego, reemplaza los valores de la matriz vacía basada en los valores del primer array bajo las siguientes condiciones:\n",
    "\n",
    "   - Si el valor es igual a la mediana, se reemplaza por `\"M\"`.\n",
    "\n",
    "   - Si el valor es mayor que la mediana, se reemplaza por `\"X\"`.\n",
    "\n",
    "   - Si el valor es menor que la mediana, se reemplaza por `\"Y\"`.\n",
    "\n",
    "   - Si el valor es igual al máximo, se reemplaza por `\"MAX\"`.\n",
    "\n",
    "   - Si el valor es igual al mínimo, se reemplaza por `\"MIN\"`.\n"
   ]
  },
  {
   "cell_type": "code",
   "execution_count": 262,
   "id": "d309b397",
   "metadata": {},
   "outputs": [
    {
     "name": "stdout",
     "output_type": "stream",
     "text": [
      "[[[  3   0  -4   2  -7]\n",
      "  [  9   7  -3  -6  -1]\n",
      "  [  1  -2  -7 -10   0]\n",
      "  [  4  -3   2   8  -3]]\n",
      "\n",
      " [[ -2 -10   7 -10  -1]\n",
      "  [  9  -2   3  -1 -10]\n",
      "  [ -3  -2   4  -7   1]\n",
      "  [  3  -7   1   1   0]]\n",
      "\n",
      " [[ -7  -6  -1   8  -4]\n",
      "  [ -9  -1   9  -5   6]\n",
      "  [ -8  -8   5  -4   0]\n",
      "  [  3   0   0  -3  -7]]]\n",
      "\n",
      "\n",
      "La mediana es -1.0 \n",
      "\n",
      "[[['X' 'X' 'Y' 'X' 'Y']\n",
      "  ['X' 'X' 'Y' 'Y' 'M']\n",
      "  ['X' 'Y' 'Y' 'Y' 'X']\n",
      "  ['X' 'Y' 'X' 'X' 'Y']]\n",
      "\n",
      " [['Y' 'Y' 'X' 'Y' 'M']\n",
      "  ['X' 'Y' 'X' 'M' 'Y']\n",
      "  ['Y' 'Y' 'X' 'Y' 'X']\n",
      "  ['X' 'Y' 'X' 'X' 'X']]\n",
      "\n",
      " [['Y' 'Y' 'M' 'X' 'Y']\n",
      "  ['Y' 'M' 'X' 'Y' 'X']\n",
      "  ['Y' 'Y' 'X' 'Y' 'X']\n",
      "  ['X' 'X' 'X' 'Y' 'Y']]]\n"
     ]
    }
   ],
   "source": [
    "array = np.random.randint(-10,10, (3,4,5))\n",
    "print(array)\n",
    "\n",
    "array_vacio = np.empty((3,4,5), dtype = str)\n",
    "\n",
    "print(\"\\n\")\n",
    "\n",
    "median = np.median(array)\n",
    "max = np.max(array)\n",
    "min = np.min(array)\n",
    "\n",
    "print(f\"La mediana es {median} \\n\")\n",
    "\n",
    "array_vacio[array == median] = \"M\"\n",
    "array_vacio[array == max] = \"MAX\"\n",
    "array_vacio[array == min] = \"MIN\"\n",
    "array_vacio[array > median] = \"X\"\n",
    "array_vacio[array < median] = \"Y\"\n",
    "\n",
    "print(array_vacio)"
   ]
  },
  {
   "cell_type": "markdown",
   "id": "83794704",
   "metadata": {},
   "source": [
    "#### Ejercicio 18 - Verificación de Filas y Columnas Iguales\n",
    "\n",
    "Crea un array bidimensional de dimensiones 4x4, escribe un código para determinar si alguna fila es exactamente igual a alguna columna.\n",
    "\n",
    "**Reglas:**\n",
    "\n",
    "- No puedes usar funciones predefinidas de NumPy para comparar filas y columnas (`np.array_equal`, etc.).\n",
    "\n",
    "- Debes resolverlo con estructuras básicas de Python (bucles, condicionales, etc.).\n",
    "\n",
    "- Debes revisar si hay al menos una fila que coincida exactamente con alguna columna.\n",
    "\n",
    "**Pistas**:\n",
    "\n",
    "- Puedes recorrer cada fila y cada columna de la matriz usando bucles.\n",
    "\n",
    "- Para comparar una fila con una columna, puedes hacerlo elemento por elemento."
   ]
  },
  {
   "cell_type": "code",
   "execution_count": 290,
   "id": "afd51c60",
   "metadata": {},
   "outputs": [
    {
     "name": "stdout",
     "output_type": "stream",
     "text": [
      "[[  7  -2  -8   5]\n",
      " [-10  -7   5   2]\n",
      " [ -5   5  -5   4]\n",
      " [ -9  -1   3  -3]]\n",
      "\n",
      " No hay filas y columnas iguales\n"
     ]
    }
   ],
   "source": [
    "array = np.random.randint(-10, 10, (4, 4))\n",
    "print(array)\n",
    "\n",
    "found = False\n",
    "for i in range(4):\n",
    "    for j in range(4):\n",
    "        fila_columna_found = True\n",
    "        for k in range(4):\n",
    "            if array[i][k] == array[i][k]:\n",
    "                fila_columna_found = False\n",
    "                break\n",
    "        if fila_columna_found:\n",
    "            print(f\"Hay una fila igual a una columna en {[i][k]}\")\n",
    "            found = True\n",
    "            break\n",
    "if not found:\n",
    "    print(\"\\n No hay filas y columnas iguales\")\n",
    "    "
   ]
  }
 ],
 "metadata": {
  "kernelspec": {
   "display_name": "contenido",
   "language": "python",
   "name": "python3"
  },
  "language_info": {
   "codemirror_mode": {
    "name": "ipython",
    "version": 3
   },
   "file_extension": ".py",
   "mimetype": "text/x-python",
   "name": "python",
   "nbconvert_exporter": "python",
   "pygments_lexer": "ipython3",
   "version": "3.9.6"
  }
 },
 "nbformat": 4,
 "nbformat_minor": 5
}
